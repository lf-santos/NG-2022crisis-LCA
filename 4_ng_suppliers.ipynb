{
 "cells": [
  {
   "cell_type": "markdown",
   "metadata": {},
   "source": [
    "# LCA of various NG suppliers"
   ]
  },
  {
   "cell_type": "code",
   "execution_count": null,
   "metadata": {},
   "outputs": [],
   "source": [
    "import os\n",
    "import pprint\n",
    "import yaml\n",
    "from yaml.loader import SafeLoader\n",
    "import warnings\n",
    "\n",
    "import matplotlib.pyplot as plt\n",
    "import seaborn as sns\n",
    "import pandas as pd\n",
    "import brightway2 as bw\n",
    "\n",
    "warnings.filterwarnings(\"ignore\")\n",
    "\n",
    "pprinter = pprint.PrettyPrinter(indent=4).pprint\n",
    "plt.rcParams[\"svg.fonttype\"] = \"path\"\n",
    "\n",
    "BW_PROJECT = \"NG_2022crisis_LCA\"\n",
    "DB_NAME = \"ecoinvent 3.9.1 cutoff, natural gas scenario EU27\"\n",
    "\n",
    "bw.projects.set_current(BW_PROJECT)  # Accessing the project\n",
    "ei_ng_db = bw.Database(DB_NAME)\n",
    "\n",
    "PATH2RESULTS = \"./data/results/\"\n",
    "if os.path.exists(PATH2RESULTS) is False:\n",
    "    os.makedirs(PATH2RESULTS)\n",
    "    \n",
    "SAVE_FIGS = False"
   ]
  },
  {
   "attachments": {},
   "cell_type": "markdown",
   "metadata": {},
   "source": [
    "## Read activities"
   ]
  },
  {
   "cell_type": "code",
   "execution_count": null,
   "metadata": {},
   "outputs": [],
   "source": [
    "with open(\"./data/ng_suppliers.yaml\") as f:\n",
    "    data = yaml.load(f, Loader=SafeLoader)[\"ng_suppliers\"]\n",
    "    print(data)"
   ]
  },
  {
   "attachments": {},
   "cell_type": "markdown",
   "metadata": {},
   "source": [
    "## Find activities in the DB"
   ]
  },
  {
   "cell_type": "code",
   "execution_count": null,
   "metadata": {},
   "outputs": [],
   "source": [
    "ng_activities = [\n",
    "    act for act in ei_ng_db if act[\"name\"] in data and act[\"location\"] == \"EU27\"\n",
    "]\n",
    "print(ng_activities)"
   ]
  },
  {
   "attachments": {},
   "cell_type": "markdown",
   "metadata": {},
   "source": [
    "## Select LCIA methods"
   ]
  },
  {
   "cell_type": "code",
   "execution_count": null,
   "metadata": {},
   "outputs": [],
   "source": [
    "ipcc_method = [\n",
    "    met\n",
    "    for met in list(bw.methods)\n",
    "    if met[0] == \"IPCC 2021\"\n",
    "    and \"climate change: including SLCFs\" in met[1]\n",
    "    and \"GWP100\" in met[2]\n",
    "]\n",
    "print(ipcc_method)"
   ]
  },
  {
   "attachments": {},
   "cell_type": "markdown",
   "metadata": {},
   "source": [
    "## Run LCA"
   ]
  },
  {
   "cell_type": "code",
   "execution_count": null,
   "metadata": {},
   "outputs": [],
   "source": [
    "def do_lca(activities, methods, verbose=True):\n",
    "    lca_results = {}\n",
    "\n",
    "    for i, act in enumerate(activities):\n",
    "        functional_unit = {act: 1.0e9}  # 1 bcm\n",
    "\n",
    "        lca = bw.LCA(functional_unit)\n",
    "        lca.lci()\n",
    "\n",
    "        for met in methods:\n",
    "            lca.switch_method(met)\n",
    "            lca.lcia()\n",
    "            if verbose:\n",
    "                print(f\"{act['name']}:\\t {lca.score/1}\")  # kg CO2 eq./year')\n",
    "            lca_results[act[\"name\"]] = lca.score\n",
    "\n",
    "    return lca_results\n",
    "\n",
    "\n",
    "lca_results = do_lca(ng_activities, ipcc_method, verbose=False)\n",
    "\n",
    "df = pd.Series(lca_results)\n",
    "df.sort_values(ascending=True, inplace=True)\n",
    "df"
   ]
  },
  {
   "cell_type": "code",
   "execution_count": null,
   "metadata": {},
   "outputs": [],
   "source": [
    "df.plot.barh()\n",
    "\n",
    "plt.show()"
   ]
  },
  {
   "attachments": {},
   "cell_type": "markdown",
   "metadata": {},
   "source": [
    "## Process contribution\n",
    "\n",
    "Run in activity browser the following LCA calculations:\n",
    " - Functional unit: 1 cubic meter of natural gas imported in gaseous form or LNG for various suppliers as in `./data/ng_suppliers.yaml` in location `EU27` from the new `ecoinvent 3.9.1 cutoff, natural gas scenario EU27` database\n",
    " - LCIA method: IPCC 2021, climate change: including SLCFs, global warming potential (GWP100) [kg CO2-Eq]\n",
    " - In `Process Contributions`: select aggregation method by reference product (limited to top 5 contributing activities)\n",
    " - Export absolute results in `\"./data/results/ng_suppliers_process_contributions.csv\"`\n"
   ]
  },
  {
   "cell_type": "code",
   "execution_count": null,
   "metadata": {},
   "outputs": [],
   "source": [
    "def read_and_prepare_csv(path):\n",
    "    try:\n",
    "        df_proc_contrib = pd.read_csv(path, index_col=0)\n",
    "    except FileNotFoundError:\n",
    "        print(f\"File {path} not found. Run the analysis described above first.\")\n",
    "        return None\n",
    "    # df_proc_contrib.set_index('index')\n",
    "    column_names = df_proc_contrib[\"index\"].tolist()\n",
    "\n",
    "    df_proc_contrib = df_proc_contrib.T\n",
    "    df_proc_contrib.columns = column_names\n",
    "    df_proc_contrib.drop(\"index\", axis=0, inplace=True)\n",
    "    df_proc_contrib[\"Rest\"] = 2 * df_proc_contrib.Total - df_proc_contrib.sum(axis=1)\n",
    "    df_proc_contrib.sort_values(by=\"Total\", ascending=True, inplace=True)\n",
    "    df_proc_contrib.drop(\"Total\", axis=1, inplace=True)\n",
    "\n",
    "    new_index_names = [\n",
    "        ind.split(\" | \")[1]\n",
    "        .replace(\"natural gas, high pressure, \", \"\")\n",
    "        .replace(\"import\", \"Natural gas import\")\n",
    "        .replace(\"regasification LNG\", \"LNG import\")\n",
    "        .replace(\"domestic\", \"Domestic\")\n",
    "        .replace(\"NL\", \"the Netherlands\")\n",
    "        .replace(\"NO\", \"Norway\")\n",
    "        .replace(\"DE\", \"Germany\")\n",
    "        .replace(\"RO\", \"Romania\")\n",
    "        .replace(\"QA\", \"Qatar\")\n",
    "        .replace(\"AZ\", \"Azerbaijan\")\n",
    "        .replace(\"US\", \"the US\")\n",
    "        .replace(\"RU\", \"Russia\")\n",
    "        .replace(\"DZ\", \"Algeria\")\n",
    "        .replace(\"from\", \"\\nfrom\")\n",
    "        .replace(\" in \", \"\\nin \")\n",
    "        for ind in df_proc_contrib.index\n",
    "    ]\n",
    "    df_proc_contrib.rename(\n",
    "        index={\n",
    "            ind: new_ind for ind, new_ind in zip(df_proc_contrib.index, new_index_names)\n",
    "        },\n",
    "        inplace=True,\n",
    "    )\n",
    "\n",
    "    return df_proc_contrib\n",
    "\n",
    "df_proc_contrib = read_and_prepare_csv(f\"{PATH2RESULTS}ng_suppliers_process_contributions.csv\") * 1e9"
   ]
  },
  {
   "cell_type": "code",
   "execution_count": null,
   "metadata": {},
   "outputs": [],
   "source": [
    "fig, ax = plt.subplots(\n",
    "    figsize=(9.72441, 7.20472),\n",
    "    dpi=300 if SAVE_FIGS else 100,\n",
    ")\n",
    "\n",
    "\n",
    "PALLETE = [\n",
    "    \"#a50026\",\n",
    "    \"#d73027\",\n",
    "    \"#f46d43\",\n",
    "    \"#fdae61\",\n",
    "    \"#fee090\",\n",
    "    \"#ffffbf\",\n",
    "    \"#e0f3f8\",\n",
    "    \"#abd9e9\",\n",
    "    \"#74add1\",\n",
    "    \"#4575b4\",\n",
    "    \"#313695\",\n",
    "]\n",
    "sns.set_style(\"ticks\")  # darkgrid, white grid, dark, white and ticks\n",
    "plt.rcParams[\"font.family\"] = \"arial\"\n",
    "plt.rcParams[\"legend.facecolor\"] = \"white\"\n",
    "plt.rcParams[\"legend.edgecolor\"] = \"black\"\n",
    "plt.rcParams[\"legend.shadow\"] = False\n",
    "plt.rcParams[\"legend.frameon\"] = True\n",
    "plt.rcParams[\"patch.linewidth\"] = 0.3\n",
    "plt.rcParams[\"font.size\"] = 8\n",
    "plt.rcParams[\"axes.titlesize\"] = 8\n",
    "plt.rcParams[\"axes.titlepad\"] = 3.0\n",
    "plt.rcParams[\"axes.labelsize\"] = 8\n",
    "plt.rcParams[\"axes.ymargin\"] = 0.0\n",
    "plt.rcParams[\"axes.xmargin\"] = 0.05\n",
    "plt.rcParams[\"axes.edgecolor\"] = \"black\"\n",
    "plt.rcParams[\"axes.linewidth\"] = 0.3\n",
    "plt.rcParams[\"axes.grid\"] = True\n",
    "plt.rcParams[\"grid.linewidth\"] = 0.4\n",
    "plt.rcParams[\"axes.spines.right\"] = True\n",
    "plt.rcParams[\"axes.spines.top\"] = True\n",
    "\n",
    "df_proc_contrib.plot.barh(\n",
    "    stacked=True, ax=ax, color=PALLETE, alpha=1.0, edgecolor=\"black\", linewidth=0.3\n",
    ")\n",
    "\n",
    "ax.set_xlabel(\"IPCC 2021, climate change, GWP100 [kg CO$_2$-eq.]\")\n",
    "ax.xaxis.set_ticks([i * 1e8 for i in range(10)])\n",
    "handles, labels = ax.get_legend_handles_labels()\n",
    "\n",
    "plt.legend(\n",
    "    handles,\n",
    "    [lab.capitalize() for lab in labels],\n",
    "    ncol=4,\n",
    "    loc=\"lower right\",\n",
    "    bbox_to_anchor=(1.04, -0.18),\n",
    ")\n",
    "\n",
    "if SAVE_FIGS:\n",
    "    plt.savefig(\"./figs/ng_suppliers_proc_contrib.png\", bbox_inches=\"tight\")\n",
    "    plt.savefig(\"./figs/ng_suppliers_proc_contrib.svg\", bbox_inches=\"tight\")"
   ]
  },
  {
   "attachments": {},
   "cell_type": "markdown",
   "metadata": {},
   "source": [
    "## Elementary flow contibutions\n",
    "\n",
    "Run in activity browser the following LCA calculations:\n",
    " - Functional unit: 1 cubic meter of natural gas imported in gaseous form or LNG for various suppliers as in `./data/ng_suppliers.yaml` in location `EU27` from the new `ecoinvent 3.9.1 cutoff, natural gas scenario EU27` database\n",
    " - LCIA method: IPCC 2021, climate change: including SLCFs, global warming potential (GWP100) [kg CO2-Eq]\n",
    " - In `EF Contributions`: select aggregation method by name (limited to top 3 contributing flows)\n",
    " - Export Elementary Flow Contribution absolute results in `\"./data/results/ng_suppliers_elementary_flow_contributions.csv\"`"
   ]
  },
  {
   "cell_type": "code",
   "execution_count": null,
   "metadata": {},
   "outputs": [],
   "source": [
    "df_ef_contrib = (\n",
    "    read_and_prepare_csv(\n",
    "        f\"{PATH2RESULTS}ng_suppliers_elementary_flow_contributions.csv\"\n",
    "    )\n",
    "    * 1e9\n",
    ")\n",
    "df_ef_contrib[\"Rest\"] = df_ef_contrib[\n",
    "    [\n",
    "        col\n",
    "        for col in df_ef_contrib.columns\n",
    "        if col\n",
    "        not in {\"Methane, fossil\", \"Carbon dioxide, fossil\", \"Carbon monoxide, fossil\"}\n",
    "    ]\n",
    "].sum()\n",
    "\n",
    "df_ef_contrib = df_ef_contrib[\n",
    "    [\"Methane, fossil\", \"Carbon dioxide, fossil\", \"Carbon monoxide, fossil\", \"Rest\"]\n",
    "]"
   ]
  },
  {
   "cell_type": "code",
   "execution_count": null,
   "metadata": {},
   "outputs": [],
   "source": [
    "fig, ax = plt.subplots(\n",
    "    figsize=(9.72441, 7.20472),\n",
    "    dpi=300 if SAVE_FIGS else 100,\n",
    ")\n",
    "\n",
    "PALLETE = [\"#d7191c\", \"#fdae61\", \"#abd9e9\", \"#2c7bb6\"]\n",
    "\n",
    "df_ef_contrib.plot.barh(\n",
    "    stacked=True, ax=ax, color=PALLETE, alpha=1.0, edgecolor=\"black\", linewidth=0.3\n",
    ")\n",
    "\n",
    "ax.set_xlabel(\"IPCC 2021, climate change, GWP100 [kg CO$_2$-eq.]\")\n",
    "ax.xaxis.set_ticks([i * 1e8 for i in range(10)])\n",
    "handles, labels = ax.get_legend_handles_labels()\n",
    "\n",
    "plt.legend(\n",
    "    handles,\n",
    "    [lab.capitalize() for lab in labels],\n",
    "    ncol=4,\n",
    "    loc=\"lower right\",\n",
    "    bbox_to_anchor=(0.85, -0.12),\n",
    ")\n",
    "\n",
    "if SAVE_FIGS:\n",
    "    plt.savefig(\"./figs/ng_suppliers_ef_contrib.png\", bbox_inches=\"tight\")\n",
    "    plt.savefig(\"./figs/ng_suppliers_ef_contrib.svg\", bbox_inches=\"tight\")"
   ]
  },
  {
   "cell_type": "markdown",
   "metadata": {},
   "source": [
    "# Country dependence on Russian gas (2021)"
   ]
  },
  {
   "cell_type": "code",
   "execution_count": null,
   "metadata": {},
   "outputs": [],
   "source": [
    "with open(\"./data/eu_members.yaml\") as f:\n",
    "    eu_members = yaml.load(f, Loader=SafeLoader)[\"eu_members\"]\n",
    "\n",
    "df_imports = pd.read_excel(\n",
    "    \"./data/ng-supply-demand-raw/nrg_ti_gas_eurostat.xlsx\",\n",
    "    sheet_name=\"Sheet 1\",\n",
    "    header=9,\n",
    ")\n",
    "df_imports.dropna(axis=0, inplace=True)\n",
    "df_imports.replace(\":\", 0, inplace=True)\n",
    "df_imports.columns = [\"Importer\", \"Russia\", \"Total\"]\n",
    "df_imports.set_index(\"Importer\", drop=True, inplace=True)\n",
    "df_imports.rename(\n",
    "    index={\"European Union - 27 countries (from 2020)\": \"EU27\"}, inplace=True\n",
    ")\n",
    "df_imports = df_imports.loc[[\"EU27\"] + eu_members] / 1000\n",
    "df_imports.sort_values(\"Total\", ascending=False, inplace=True)\n",
    "df_imports[\"Total\"] = df_imports[\"Total\"] - df_imports[\"Russia\"]\n",
    "df_imports.head()"
   ]
  },
  {
   "cell_type": "code",
   "execution_count": null,
   "metadata": {},
   "outputs": [],
   "source": [
    "fig, ax = plt.subplots(figsize=(9.72441, 7.20472), dpi=300 if SAVE_FIGS else 100)\n",
    "\n",
    "PALLETE = [\n",
    "    \"#4daf4a\",\n",
    "    \"#984ea3\",\n",
    "    \"#ff7f00\",\n",
    "]\n",
    "\n",
    "df_imports.plot.barh(\n",
    "    stacked=True,\n",
    "    ax=ax,\n",
    "    color=PALLETE,\n",
    "    alpha=1.0,\n",
    "    edgecolor=\"black\",\n",
    "    linewidth=0.3,\n",
    ")\n",
    "\n",
    "ax.set_xlabel(\"Natural gas imports in 2021 [bcm year$^{-1}$]\")\n",
    "handles, labels = ax.get_legend_handles_labels()\n",
    "\n",
    "plt.legend(\n",
    "    handles,\n",
    "    [lab.capitalize() for lab in labels],\n",
    "    ncol=4,\n",
    "    loc=\"upper right\",\n",
    "    title=\"Suppliers\",\n",
    "    # bbox_to_anchor=(0.85, -0.12),\n",
    ")\n",
    "\n",
    "if SAVE_FIGS:\n",
    "    plt.savefig(\"./figs/ng_import_by_country.png\", bbox_inches=\"tight\")\n",
    "    plt.savefig(\"./figs/ng_import_by_country.svg\", bbox_inches=\"tight\")"
   ]
  }
 ],
 "metadata": {
  "kernelspec": {
   "display_name": "lca",
   "language": "python",
   "name": "python3"
  },
  "language_info": {
   "codemirror_mode": {
    "name": "ipython",
    "version": 3
   },
   "file_extension": ".py",
   "mimetype": "text/x-python",
   "name": "python",
   "nbconvert_exporter": "python",
   "pygments_lexer": "ipython3",
   "version": "3.9.18"
  },
  "orig_nbformat": 4
 },
 "nbformat": 4,
 "nbformat_minor": 2
}
